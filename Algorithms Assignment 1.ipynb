{
 "cells": [
  {
   "cell_type": "markdown",
   "metadata": {},
   "source": [
    "# Algorithms and Data Structures Assignment 1\n",
    "Submitted by: Vipul Krishnan M.D. <br>\n",
    "Student ID: 28104641"
   ]
  },
  {
   "cell_type": "markdown",
   "metadata": {},
   "source": [
    "#### Importing all required libraries"
   ]
  },
  {
   "cell_type": "code",
   "execution_count": 143,
   "metadata": {
    "collapsed": true
   },
   "outputs": [],
   "source": [
    "from operator import itemgetter, attrgetter\n",
    "import timeit\n",
    "from random import randint\n",
    "import matplotlib.pyplot as plt\n",
    "import numpy as np\n",
    "%matplotlib inline"
   ]
  },
  {
   "cell_type": "markdown",
   "metadata": {},
   "source": [
    "### 1) Creating ADT Point Class"
   ]
  },
  {
   "cell_type": "code",
   "execution_count": 144,
   "metadata": {
    "collapsed": true
   },
   "outputs": [],
   "source": [
    "class Point:\n",
    "    def __init__(self, x, y):\n",
    "        self.x = x\n",
    "        self.y = y\n",
    "\n",
    "    def translate(self, x, y):\n",
    "        self.x = x\n",
    "        self.y = y\n",
    "\n",
    "    def distance(self, point):\n",
    "        return abs(self.x - point.x) + abs(self.y - point.y)\n",
    "    \n",
    "    def get_x(self):\n",
    "        return self.x\n",
    "    \n",
    "    def get_y(self):\n",
    "        return self.y\n",
    "    \n",
    "    def set_x(self, x1):\n",
    "        self.x = x1\n",
    "    \n",
    "    def set_y(self, y1):\n",
    "        self.y = y1\n",
    "\n",
    "    def distance_origin(self):\n",
    "        return abs(self.x - 0) + abs(self.y - 0)\n",
    "     \n",
    "    def print_point(self):\n",
    "        print('(', self.x, ',', self.y, ')')"
   ]
  },
  {
   "cell_type": "markdown",
   "metadata": {},
   "source": [
    "### 2) Creating PointSet class <br>and<br> 3) Adding Brute Force and Devide and Conquer methods."
   ]
  },
  {
   "cell_type": "markdown",
   "metadata": {},
   "source": [
    "#### What should be modified in the algorithm\n",
    "As we need Manhattan distance, instead of taking distance between two points as SquareRoot(square(x1-x2) + square(y1-y1)) we need to take as abs(x1-x2) + abs(y1-y2). This has to be changed in the algorithm."
   ]
  },
  {
   "cell_type": "code",
   "execution_count": 145,
   "metadata": {
    "collapsed": true
   },
   "outputs": [],
   "source": [
    "class PointSet:\n",
    "    def __init__(self):\n",
    "        self.points = []\n",
    "\n",
    "    def set_points(self, new):\n",
    "        self.points = new\n",
    "    \n",
    "    def get_points(self):\n",
    "        return self.points\n",
    "\n",
    "    def insert(self, point):\n",
    "        self.points.append(point)\n",
    "\n",
    "    def delete(self, point):\n",
    "        for p in self.points:\n",
    "            if p.x == point.x and p.y == point.y:\n",
    "                self.points.remove(p)\n",
    "                \n",
    "    def closest_points_brute(self):\n",
    "        minimum = float('inf')\n",
    "        min_one = None\n",
    "        min_two = None\n",
    "        for p in self.points:\n",
    "            for q in self.points:\n",
    "                if p != q:\n",
    "                    if abs(p.x - q.x) + abs(p.y - q.y) < minimum:\n",
    "                        minimum = abs(p.x - q.x) + abs(p.y - q.y)\n",
    "                        min_one = p\n",
    "                        min_two = q\n",
    "        return minimum, min_one, min_two\n",
    "    \n",
    "    # This is a helper method which pre-sorts the list by x and y coordinats and calls the main function  \n",
    "    def closestPair(self):\n",
    "        xsorted = sorted(self.points, key=lambda z: z.x)\n",
    "        ysorted = sorted(self.points, key=lambda z: z.y)\n",
    "        return self.closestPairContinue(xsorted, ysorted)\n",
    "    \n",
    "    # The main devide and conquer function\n",
    "    def closestPairContinue(self, xsorted, ysorted):\n",
    "        # If the number of points is less than 4, it goes for brute-force. \n",
    "        if len(xsorted) <= 3:\n",
    "            minimum = float('inf')\n",
    "            min_one = None\n",
    "            min_two = None\n",
    "            for p in xsorted:\n",
    "                for q in xsorted:\n",
    "                    if p != q:\n",
    "                        if abs(p.x - q.x) + abs(p.y - q.y) < minimum:\n",
    "                            minimum = abs(p.x - q.x) + abs(p.y - q.y)\n",
    "                            min_one = p\n",
    "                            min_two = q\n",
    "            return minimum, min_one, min_two\n",
    "        \n",
    "        # If n > 3, It goes for devide and conquer.\n",
    "        else:\n",
    "            length = len(xsorted)\n",
    "            \n",
    "            # Dividing the x sorted list into two halves \n",
    "            left_setX = xsorted[:length//2]\n",
    "            right_setX = xsorted[length//2:]\n",
    "            \n",
    "            # Creating Y sorted two halves based on the X- sorted ones\n",
    "            left_setY = []\n",
    "            right_setY = []\n",
    "            boundary = xsorted[(length // 2)-1]\n",
    "            \n",
    "            # Instead of sorting the two lists again by Y,the below code uses a simpler method.\n",
    "            # This reduces the complexity from 'nlogn' to 'n'\n",
    "            for i in ysorted:\n",
    "                if i.x <= boundary.x:\n",
    "                    left_setY.append(i)\n",
    "                else:\n",
    "                    right_setY.append(i)\n",
    "            \n",
    "            # Recursion\n",
    "            dmin_left, x_left, y_left = self.closestPairContinue(left_setX, left_setY)\n",
    "            dmin_right, x_right, y_right = self.closestPairContinue(right_setX, right_setY)\n",
    "            \n",
    "            # Finding the minimum\n",
    "            dmin, x, y = (dmin_left, x_left, y_left) if dmin_left < dmin_right else (dmin_right, x_right, y_right)\n",
    "\n",
    "            # Finding the points within 'dmin' from the division line\n",
    "            gappoints = [p for p in ysorted if abs(p.x - left_setX[-1].x) < dmin]\n",
    "            \n",
    "            # Checking if there is any closer points in the gap.\n",
    "            lengap = len(gappoints)\n",
    "            if lengap > 1:\n",
    "                newlen = min(((abs(gappoints[i].x - gappoints[j].x) + abs(gappoints[i].y - gappoints[j].y), gappoints[i],\n",
    "                              gappoints[j])\n",
    "                              for i in range(lengap - 1)\n",
    "                              for j in range(i + 1, min(i+16,lengap))), key=itemgetter(0))\n",
    "                if newlen[0] < dmin:\n",
    "                    return newlen[0], newlen[1], newlen[2]\n",
    "                else:\n",
    "                    return dmin, x, y\n",
    "            return dmin, x, y"
   ]
  },
  {
   "cell_type": "code",
   "execution_count": 146,
   "metadata": {
    "collapsed": true
   },
   "outputs": [],
   "source": [
    "# This is an extra function \n",
    "# This function randomly inserts n points into a PointSet and returns it.\n",
    "def theInserter(n):\n",
    "    ps = PointSet()\n",
    "    for i in range(0, n):\n",
    "        x = randint(-20, 20)\n",
    "        y = randint(-20, 20)\n",
    "        point = Point(x, y)\n",
    "        ps.insert(point)\n",
    "    return ps\n"
   ]
  },
  {
   "cell_type": "code",
   "execution_count": 147,
   "metadata": {},
   "outputs": [
    {
     "name": "stdout",
     "output_type": "stream",
     "text": [
      "Works Fine!\n"
     ]
    }
   ],
   "source": [
    "#This is an extra function.\n",
    "#This method automates the test by comparing the dmin from different methods for a number of times\n",
    "#testnum : Number of times the test has to be repeated\n",
    "#maxpoint: Maximum number of points that can be inserted n a test\n",
    "def autoTester(testnum, maxpoint):\n",
    "    for i in range (0,testnum):\n",
    "        ps = theInserter(randint(2,maxpoint))\n",
    "        dmin, x, y = ps.closestPair()\n",
    "        #print(\"dmin from devide and conquer method\")\n",
    "        #print(dmin)\n",
    "\n",
    "        dmin1, x, y = ps.closest_points_brute()\n",
    "        #print(\"dmin from brute force method\")\n",
    "        #print(dmin1)\n",
    "        \n",
    "        if (dmin1 != dmin):\n",
    "            return \"Something Went Wrong\"\n",
    "    return \"Works Fine!\"\n",
    "\n",
    "print(autoTester(100, 20))"
   ]
  },
  {
   "cell_type": "markdown",
   "metadata": {},
   "source": [
    "### 4) Empirical Runtime Evaluation"
   ]
  },
  {
   "cell_type": "code",
   "execution_count": 148,
   "metadata": {},
   "outputs": [
    {
     "data": {
      "image/png": "[encoded data removed]",
      "text/plain": [
       "<matplotlib.figure.Figure at 0x21af12f3c88>"
      ]
     },
     "metadata": {},
     "output_type": "display_data"
    }
   ],
   "source": [
    "# This method returns a plot which compares different distance measuring methods' runtime for\n",
    "# various number of points from 2 to n\n",
    "def plotter(n):\n",
    "    a = []\n",
    "    b = []\n",
    "    d = []\n",
    "    for i in range(2, n + 1):\n",
    "        c = theInserter(i)\n",
    "        a.append(np.mean(timeit.Timer(c.closestPair).repeat(5, 10)))\n",
    "        b.append(np.mean(timeit.Timer(c.closest_points_brute).repeat(5, 10)))\n",
    "\n",
    "    fig, pltr = plt.subplots(figsize=(18,8))\n",
    "    pltr.plot(range(2, n + 1), a, 'r-')\n",
    "    pltr.plot(range(2, n + 1), b, 'b-')\n",
    "    pltr.set_xlabel(\"Number of points\")\n",
    "    pltr.set_ylabel(\"Execution time(For 10 times)\")\n",
    "    \n",
    "plotter(100)"
   ]
  },
  {
   "cell_type": "markdown",
   "metadata": {},
   "source": [
    "Blue : Brute Force Method <br>\n",
    "Red: Devide and Conquer\n",
    "\n",
    "#### Discussion\n",
    "Yes, the plot proves the theory and expectations. The time complexity of brute force method is n*n and the divide and conquer method is n*log(n). The corresponding curves also show the same shapes as these functions’ shapes. The brute force’s running time increases faster with n compared to the divide and conquer method which proves that the divide and conquer is better for large values of n. However for very small values of n, the brute force method seems to be more suitable. This is due to the other non-dominant terms’ (of recurrence relation.) effects. "
   ]
  },
  {
   "cell_type": "markdown",
   "metadata": {},
   "source": [
    "### 5) Recurrence Relation\n",
    "For the above method, the recurrence relation would be\n",
    "T(n) = 2*T(n/2) + a*n + c\n",
    "where a and c can take different values based on the point distributions.\n",
    "\n",
    "If the unsorted list is provided to the function and function sorts it each time (both X-based and Y-based sorting), an additional term of 2*n*log(n) comes in picture, where log is base 2. So the recurrence relation would become\n",
    "\n",
    "T(n) = 2*T(n/2) + a*n + 2*n*log(n) + c"
   ]
  },
  {
   "cell_type": "markdown",
   "metadata": {},
   "source": [
    "### Bonus) Visualization\n",
    "The same PointSet class in the above code is rewritten here along with some visualization codes. To avoid time delay due to plotting , the visualization codes were not added in the previously defined PointSet class."
   ]
  },
  {
   "cell_type": "code",
   "execution_count": 149,
   "metadata": {
    "collapsed": true
   },
   "outputs": [],
   "source": [
    "class PointSet:\n",
    "    def __init__(self):\n",
    "        self.points = []\n",
    "\n",
    "    def setPoints(self, new):\n",
    "        self.points = new\n",
    "    \n",
    "    def getPoints(self):\n",
    "        return self.points\n",
    "\n",
    "    def insert(self, point):\n",
    "        self.points.append(point)\n",
    "\n",
    "    def delete(self, point):\n",
    "        for p in self.points:\n",
    "            if p.x == point.x and p.y == point.y:\n",
    "                self.points.remove(p)\n",
    "\n",
    "    def closest_points_brute(self):\n",
    "        minimum = float('inf')\n",
    "        min_one = None\n",
    "        min_two = None\n",
    "        for p in self.points:\n",
    "            for q in self.points:\n",
    "                if p != q:\n",
    "                    if abs(p.x - q.x) + abs(p.y - q.y) < minimum:\n",
    "                        minimum = abs(p.x - q.x) + abs(p.y - q.y)\n",
    "                        min_one = p\n",
    "                        min_two = q\n",
    "        return minimum, min_one, min_two \n",
    "\n",
    "    \n",
    "    def closestPair(self):\n",
    "        xsorted = sorted(self.points, key=lambda z: z.x)\n",
    "        ysorted = sorted(self.points, key=lambda z: z.y)\n",
    "        # Plotting points in both figures\n",
    "        ax.scatter([o.x for o in xsorted], [o.y for o in xsorted])\n",
    "        ay.scatter([o.x for o in xsorted], [o.y for o in xsorted])\n",
    "        return self.closestPairContinue(xsorted, ysorted)\n",
    "\n",
    "    def closestPairContinue(self, xsorted, ysorted):\n",
    "        \n",
    "        if len(xsorted) <= 3:\n",
    "            minimum = float('inf')\n",
    "            min_one = None\n",
    "            min_two = None\n",
    "            for p in xsorted:\n",
    "                for q in xsorted:\n",
    "                    if p != q:\n",
    "                        if abs(p.x - q.x) + abs(p.y - q.y) < minimum:\n",
    "                            minimum = abs(p.x - q.x) + abs(p.y - q.y)\n",
    "                            min_one = p\n",
    "                            min_two = q\n",
    "            return minimum, min_one, min_two\n",
    "        else:\n",
    "            length = len(xsorted)\n",
    "            left_setX = xsorted[:length//2]\n",
    "            right_setX = xsorted[length//2:]\n",
    "            left_setY = []\n",
    "            right_setY = []\n",
    "            boundary = xsorted[(length // 2)-1]\n",
    "            # plotting division lines\n",
    "            ax.axvline(x=boundary.x)\n",
    "            for i in ysorted:\n",
    "                if i.x <= boundary.x:\n",
    "                    left_setY.append(i)\n",
    "                else:\n",
    "                    right_setY.append(i)\n",
    "            dmin_left, x_left, y_left = self.closestPairContinue(left_setX, left_setY)\n",
    "            dmin_right, x_right, y_right = self.closestPairContinue(right_setX, right_setY)\n",
    "            dmin, x, y = (dmin_left, x_left, y_left) if dmin_left < dmin_right else (dmin_right, x_right, y_right)\n",
    "           \n",
    "            colors = ['#12efff','#eee111','#eee00f','#e00fff','#123456','#abc222','#000000','#123fff','#1eff1f','#2edf4f','#2eaf9f','#22222f',\n",
    "        '#eeeff1','#eee112','#00ef00','#aa0000','#0000aa','#000999','#32efff','#23ef68','#2e3f56','#7eef1f','#eeef11']\n",
    "            m = randint(-20,20)\n",
    "            \n",
    "            gappoints = [p for p in ysorted if abs(p.x - left_setX[-1].x) < dmin]\n",
    "            lengap = len(gappoints)\n",
    "            if lengap > 1:\n",
    "                # Plotting figure 2\n",
    "                ay.axvline(x=(boundary.x))\n",
    "                ay.axvspan(boundary.x+dmin, boundary.x-dmin, alpha=0.3, color=colors[randint(0,20)])\n",
    "                newlen = min(((\n",
    "                              abs(gappoints[i].x - gappoints[j].x) + abs(gappoints[i].y - gappoints[j].y), gappoints[i],\n",
    "                              gappoints[j])\n",
    "                              for i in range(lengap - 1)\n",
    "                              for j in range(i + 1, min(i+16,lengap))), key=itemgetter(0))\n",
    "                if newlen[0] < dmin:\n",
    "                    return newlen[0], newlen[1], newlen[2]\n",
    "                else:\n",
    "                    return dmin, x, y\n",
    "            return dmin, x, y"
   ]
  },
  {
   "cell_type": "code",
   "execution_count": 154,
   "metadata": {},
   "outputs": [
    {
     "name": "stdout",
     "output_type": "stream",
     "text": [
      "Plot Showing Division Lines\n"
     ]
    },
    {
     "data": {
      "image/png": "[encoded data removed]",
      "text/plain": [
       "<matplotlib.figure.Figure at 0x21af36cf668>"
      ]
     },
     "metadata": {},
     "output_type": "display_data"
    },
    {
     "data": {
      "image/png": "[encoded data removed]",
      "text/plain": [
       "<matplotlib.figure.Figure at 0x21af363beb8>"
      ]
     },
     "metadata": {},
     "output_type": "display_data"
    },
    {
     "name": "stdout",
     "output_type": "stream",
     "text": [
      "Plot Showing Gap Regions\n"
     ]
    }
   ],
   "source": [
    "# This plot shows all divisions made during the process\n",
    "fig, ax = plt.subplots(figsize=(20,10))\n",
    "plt.ylim([-21,21])\n",
    "plt.xlim([-21,21])\n",
    "\n",
    "# This plot shows (dividingPoint - dmin) to  (dividingPoint + dmin) region.\n",
    "# Note that, not all division lines has this region. Only those places where this operation performed are shown.\n",
    "fig, ay = plt.subplots(figsize=(20,10))\n",
    "plt.ylim([-21,21])\n",
    "plt.xlim([-21,21])\n",
    "\n",
    "# Inserting points. More the number of points, more complicated is the plot.\n",
    "ps = theInserter(10)\n",
    "\n",
    "# Calling function\n",
    "dmin, x, y = ps.closestPair()\n",
    "\n",
    "# Plotting minimum distance\n",
    "v,w = [x.x, x.x], [x.y, y.y]\n",
    "t,u = [x.x, y.x], [y.y, y.y]\n",
    "ax.plot(v,w,'r-')\n",
    "ax.plot(t,u,'r-')\n",
    "ay.plot(v,w,'r-')\n",
    "ay.plot(t,u,'r-')\n",
    "print(\"Plot Showing Division Lines\")\n",
    "plt.show()\n",
    "print(\"Plot Showing Gap Regions\")"
   ]
  },
  {
   "cell_type": "markdown",
   "metadata": {
    "collapsed": true
   },
   "source": [
    "Figure 1 shows the points, shortest distance, and division lines. Figure 2 shows the regions analysed for pairs with one point left, and one point right ('dmin' distance around the division line). Please note that not all division lines are drawn in the second figure. Only those division lines around which the analysis is performed is shown. "
   ]
  },
  {
   "cell_type": "code",
   "execution_count": null,
   "metadata": {
    "collapsed": true
   },
   "outputs": [],
   "source": []
  }
 ],
 "metadata": {
  "kernelspec": {
   "display_name": "Python 3",
   "language": "python",
   "name": "python3"
  },
  "language_info": {
   "codemirror_mode": {
    "name": "ipython",
    "version": 3
   },
   "file_extension": ".py",
   "mimetype": "text/x-python",
   "name": "python",
   "nbconvert_exporter": "python",
   "pygments_lexer": "ipython3",
   "version": "3.6.1"
  }
 },
 "nbformat": 4,
 "nbformat_minor": 2
}
